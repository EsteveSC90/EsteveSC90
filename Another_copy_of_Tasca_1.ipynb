{
  "nbformat": 4,
  "nbformat_minor": 0,
  "metadata": {
    "colab": {
      "provenance": [],
      "include_colab_link": true
    },
    "kernelspec": {
      "name": "python3",
      "display_name": "Python 3"
    },
    "language_info": {
      "name": "python"
    }
  },
  "cells": [
    {
      "cell_type": "markdown",
      "metadata": {
        "id": "view-in-github",
        "colab_type": "text"
      },
      "source": [
        "<a href=\"https://colab.research.google.com/github/EsteveSC90/EsteveSC90/blob/master/Another_copy_of_Tasca_1.ipynb\" target=\"_parent\"><img src=\"https://colab.research.google.com/assets/colab-badge.svg\" alt=\"Open In Colab\"/></a>"
      ]
    },
    {
      "cell_type": "markdown",
      "source": [
        "Aquest és l'enunciat de la primera tasca de **Programació d'Intel·ligència Artificial**.\n",
        "\n",
        "Hi ha 12 exercicis que has de respondre en la cel·la de codi que hi ha sota cada enunciat (si ho necessites, pots emprar-ne més d'una).\n",
        "\n",
        "Tots els exercicis valen el mateix: sobre un total de 12 punts, cada exercici val 1 punt."
      ],
      "metadata": {
        "id": "Wx1nesh8tcOc"
      }
    },
    {
      "cell_type": "markdown",
      "source": [
        "# Exercici 1\n",
        "\n",
        "Pregunta a l’usuari en quina posició ha acabat un atleta la prova de marató dels Jocs Olímpics. Has de dir quin premi li correspon:\n",
        "* Medalla d’or per al primer\n",
        "* Medalla de plata per al segon\n",
        "* Medalla de bronze per al tercer\n",
        "* Diploma olímpic entre el quart i vuitè\n",
        "* Cap premi a partir del novè"
      ],
      "metadata": {
        "id": "kLaYJXVKgtyj"
      }
    },
    {
      "cell_type": "code",
      "execution_count": null,
      "metadata": {
        "id": "cSrNAzE2gsjV",
        "colab": {
          "base_uri": "https://localhost:8080/"
        },
        "outputId": "fd697504-cbd1-41d9-faa4-0a772ae38f9b"
      },
      "outputs": [
        {
          "output_type": "stream",
          "name": "stdout",
          "text": [
            "En quina posició ha acabat l'atleta la prova de marató? h\n",
            "Això no és un nombre enter. Si us plau, intenta-ho de nou.\n",
            "En quina posició ha acabat l'atleta la prova de marató? 6\n",
            "L'atleta ha obtingut el premi: Diploma olímpic\n"
          ]
        }
      ],
      "source": [
        "# Aquí va la teva resposta\n",
        "\n",
        "\n",
        "# Funció que determina el premi que obté l'atleta en funció de la posicio que acaba.\n",
        "def determinar_premi(posicio):\n",
        "  if posicio == 1:\n",
        "      return \"Medalla d'or\"\n",
        "  elif posicio == 2:\n",
        "      return \"Medalla de plata\"\n",
        "  elif posicio == 3:\n",
        "      return \"Medalla de bronze\"\n",
        "  elif 4 <= posicio <= 8:\n",
        "      return \"Diploma olímpic\"\n",
        "  else:\n",
        "      return \"Cap premi\"\n",
        "\n",
        "def demanar_nombre_enter():\n",
        "    while True:\n",
        "        try:\n",
        "            nombre = int(input(\"En quina posició ha acabat l'atleta la prova de marató? \"))\n",
        "            return nombre\n",
        "        except ValueError:\n",
        "            print(\"Això no és un nombre enter. Si us plau, intenta-ho de nou.\")\n",
        "\n",
        "\n",
        "posicio = demanar_nombre_enter()\n",
        "premi = determinar_premi(posicio)\n",
        "print(f\"L'atleta ha obtingut el premi: {premi}\")"
      ]
    },
    {
      "cell_type": "markdown",
      "source": [
        "# Exercici 2\n",
        "\n",
        "A un sorteig de loteria, el premi gros ha estat el 12345. Demana a l’usuari quin és el seu número i quants euros ha jugat. Determina quina quantitat li correspon de premi:\n",
        "* Premi gros: ha encertat els 5 números. 10.000 euros per euro jugat\n",
        "* Reintegrament: ha encertat el darrer número, 1 euro per euro jugat\n",
        "* Terminació de 2 xifres: ha encertat les 2 darreres xifres, 10 euros per euro jugat\n",
        "* Terminació de 3 xifres: ha encertat les 3 darreres xifres, 100 euros per euro jugat\n",
        "* Terminació de 4 xifres: ha encertat les 4 darreres xifres, 1.000 euros per euro jugat\n",
        "* Desena de milers: ha encertat la primera xifra, 1 euro per euro jugat\n",
        "* Unitat de milers: ha encertat les 2 primeres xifres, 10 euros per euro jugat\n",
        "* Centena: ha encertat les 3 primeres xifres, 100 euros per euro jugat\n",
        "* Desena: ha encertat les 4 primeres xifres, 1.000 euros per euro jugat\n",
        "\n",
        "Els premis són acumulables.\n"
      ],
      "metadata": {
        "id": "xE45erbugvXQ"
      }
    },
    {
      "cell_type": "code",
      "source": [
        "# Aquí va la teva resposta\n",
        "# Definir constants\n",
        "PREMI_GROS = 10000\n",
        "REINTEGRAMENT = 1\n",
        "TERMINACIO_2_XIFRES = 10\n",
        "TERMINACIO_3_XIFRES = 100\n",
        "TERMINACIO_4_XIFRES = 1000\n",
        "DESENA_DE_MILERS = 1\n",
        "UNITAT_DE_MILERS = 10\n",
        "CENTENA = 100\n",
        "DESENA = 1000\n",
        "\n",
        "# Número premiat Premi Gros\n",
        "PREMI_GROS_NUM = 12345\n",
        "\n",
        "def calcular_premi(num_usuario, euros_jugats):\n",
        "    premi_total = 0\n",
        "\n",
        "    # -- Comprovar si ha encertat els 5 números\n",
        "    if num_usuario == PREMI_GROS_NUM:\n",
        "        premi_total += PREMI_GROS * euros_jugats\n",
        "\n",
        "    # -- Comprovar reintegrament - darrer número\n",
        "    if num_usuario % 10 == PREMI_GROS_NUM % 10:\n",
        "        premi_total += REINTEGRAMENT * euros_jugats\n",
        "\n",
        "    # -- Comprovar terminacions\n",
        "    # Terminació de 2 xifres: ha encertat les 2 darreres xifres, 10 euros per euro jugat\n",
        "    # Terminació de 3 xifres: ha encertat les 3 darreres xifres, 100 euros per euro jugat\n",
        "    # Terminació de 4 xifres: ha encertat les 4 darreres xifres, 1.000 euros per euro jugat\n",
        "\n",
        "    if num_usuario % 100 == PREMI_GROS_NUM % 100:\n",
        "        premi_total += TERMINACIO_2_XIFRES * euros_jugats\n",
        "    if num_usuario % 1000 == PREMI_GROS_NUM % 1000:\n",
        "        premi_total += TERMINACIO_3_XIFRES * euros_jugats\n",
        "    if num_usuario % 10000 == PREMI_GROS_NUM % 10000:\n",
        "        premi_total += TERMINACIO_4_XIFRES * euros_jugats\n",
        "\n",
        "    # -- Comprovar les primeres xifres\n",
        "    # Desena de milers: ha encertat la primera xifra, 1 euro per euro jugat\n",
        "    # Unitat de milers: ha encertat les 2 primeres xifres, 10 euros per euro jugat\n",
        "    # Centena: ha encertat les 3 primeres xifres, 100 euros per euro jugat\n",
        "    # Desena: ha encertat les 4 primeres xifres, 1.000 euros per euro jugat\n",
        "\n",
        "    if str(num_usuario)[0] == str(PREMI_GROS_NUM)[0]:\n",
        "        premi_total += DESENA_DE_MILERS * euros_jugats\n",
        "    if str(num_usuario)[:2] == str(PREMI_GROS_NUM)[:2]:\n",
        "        premi_total += UNITAT_DE_MILERS * euros_jugats\n",
        "    if str(num_usuario)[:3] == str(PREMI_GROS_NUM)[:3]:\n",
        "        premi_total += CENTENA * euros_jugats\n",
        "    if str(num_usuario)[:4] == str(PREMI_GROS_NUM)[:4]:\n",
        "        premi_total += DESENA * euros_jugats\n",
        "\n",
        "    return premi_total\n",
        "\n",
        "# Demanar a l'usuari el seu número i quants euros ha jugat\n",
        "while True:\n",
        "    try:\n",
        "        num_usuario = int(input(\"Introdueix el teu número de loteria (5 xifres): \"))\n",
        "        if 10000 <= num_usuario <= 99999:  # Comprovar que el número tingui 5 xifres\n",
        "            break\n",
        "        else:\n",
        "            print(\"El número ha de tenir 5 xifres.\")\n",
        "    except ValueError:\n",
        "        print(\"Això no és un número vàlid. Si us plau, intenta-ho de nou.\")\n",
        "\n",
        "while True:\n",
        "    try:\n",
        "        euros_jugats = float(input(\"Introdueix quants euros has jugat: \"))\n",
        "        if euros_jugats >= 0:  # Comprovar que la quantitat sigui positiva\n",
        "            break\n",
        "        else:\n",
        "            print(\"La quantitat ha de ser positiva.\")\n",
        "    except ValueError:\n",
        "        print(\"Això no és un número vàlid. Si us plau, intenta-ho de nou.\")\n",
        "\n",
        "# Calcular el premi\n",
        "premi = calcular_premi(num_usuario, euros_jugats)\n",
        "\n",
        "# Mostrar el resultat\n",
        "print(f\"T'has guanyat {premi} euros.\")"
      ],
      "metadata": {
        "id": "pDEUdK4vkCc4",
        "colab": {
          "base_uri": "https://localhost:8080/"
        },
        "outputId": "ba8ddef6-b5b8-4170-ebd9-3fa323127848"
      },
      "execution_count": 3,
      "outputs": [
        {
          "output_type": "stream",
          "name": "stdout",
          "text": [
            "Introdueix el teu número de loteria (5 xifres): lkh\n",
            "Això no és un número vàlid. Si us plau, intenta-ho de nou.\n",
            "Introdueix el teu número de loteria (5 xifres): 2\n",
            "El número ha de tenir 5 xifres.\n",
            "Introdueix el teu número de loteria (5 xifres): 1234\n",
            "El número ha de tenir 5 xifres.\n",
            "Introdueix el teu número de loteria (5 xifres): 12345\n",
            "Introdueix quants euros has jugat: 5\n",
            "T'has guanyat 61110.0 euros.\n"
          ]
        }
      ]
    },
    {
      "cell_type": "markdown",
      "source": [
        "# Exercici 3\n",
        "\n",
        "Demana a l’usuari un nombre enter i determina si és un nombre primer (un nombre que només és divisible per 1 i per ell mateix)\n"
      ],
      "metadata": {
        "id": "Ym6GBAp_g5rP"
      }
    },
    {
      "cell_type": "code",
      "source": [
        "# Aquí va la teva resposta\n",
        "def es_nombre_primer(n):\n",
        "    if n <= 1:\n",
        "        return False\n",
        "    for i in range(2, n):\n",
        "        if n % i == 0:\n",
        "            return False\n",
        "    return True\n",
        "\n",
        "def demanar_nombre():\n",
        "    while True:\n",
        "        try:\n",
        "            nombre = int(input(\"Posa un nombre enter: \"))\n",
        "            return nombre\n",
        "        except ValueError:\n",
        "            print(\"Aixó no és un nombre enter. Perfavor, intenta-ho de nou\")\n",
        "\n",
        "nombre = demanar_nombre()\n",
        "print(nombre)\n",
        "\n",
        "if es_nombre_primer(nombre):\n",
        "  print(f\"{nombre} és un nombre primer.\")\n",
        "else:\n",
        "  print(f\"{nombre} no és un nombre primer.\")"
      ],
      "metadata": {
        "id": "vNCi0-qzhVGw",
        "colab": {
          "base_uri": "https://localhost:8080/"
        },
        "outputId": "d974fa68-92c5-446f-8a33-8f7239996fc7"
      },
      "execution_count": null,
      "outputs": [
        {
          "output_type": "stream",
          "name": "stdout",
          "text": [
            "Posa un nombre enter: aç\n",
            "Aixó no és un nombre enter. Perfavor, intenta-ho de nou\n",
            "Posa un nombre enter: 2\n",
            "2\n",
            "2 és un nombre primer.\n"
          ]
        }
      ]
    },
    {
      "cell_type": "markdown",
      "source": [
        "# Exercici 4\n",
        "\n",
        "Demana a l’usuari un nombre enter entre 1 i 10 i imprimeix un triangle com aquest (per al 5):\n",
        "\n",
        "1 \\\n",
        "2 1 \\\n",
        "3 2 1 \\\n",
        "4 3 2 1 \\\n",
        "5 4 3 2 1 \\\n"
      ],
      "metadata": {
        "id": "t6kdimEyhBxH"
      }
    },
    {
      "cell_type": "code",
      "source": [
        "# Aquí va la teva resposta\n",
        "def demanar_nombre():\n",
        "    while True:\n",
        "        try:\n",
        "            nombre = int(input(\"Introdueix un nombre enter entre 1 i 10: \"))\n",
        "            if 1 <= nombre <= 10:\n",
        "                return nombre\n",
        "            else:\n",
        "                print(\"El nombre ha de ser entre 1 i 10.\")\n",
        "        except ValueError:\n",
        "            print(\"Això no és un número vàlid. Si us plau, intenta-ho de nou.\")\n",
        "\n",
        "nombre = demanar_nombre()\n",
        "\n",
        "for i in range(1, nombre + 1):\n",
        "    # Crear la fila amb els números decreixents\n",
        "    fila = ' '.join(str(num) for num in range(i, 0, -1))\n",
        "    print(fila)\n",
        ""
      ],
      "metadata": {
        "id": "RKDs-PAQjkj5",
        "colab": {
          "base_uri": "https://localhost:8080/"
        },
        "outputId": "aaf7274d-ffd5-42fc-80e2-896293e6637a"
      },
      "execution_count": 11,
      "outputs": [
        {
          "output_type": "stream",
          "name": "stdout",
          "text": [
            "Introdueix un nombre enter entre 1 i 10: 5\n",
            "1\n",
            "2 1\n",
            "3 2 1\n",
            "4 3 2 1\n",
            "5 4 3 2 1\n"
          ]
        }
      ]
    },
    {
      "cell_type": "markdown",
      "source": [
        "# Exercici 5\n",
        "\n",
        "Demana a l’usuari que escrigui una frase i guarda-la en una llista. Elimina de la llista els caràcters que ocupin posicions senars. Mostra la llista resultant emprant un iterador.\n"
      ],
      "metadata": {
        "id": "KGWe7Ls_hEFf"
      }
    },
    {
      "cell_type": "code",
      "source": [
        "# Aquí va la teva resposta\n",
        "def demanar_frase():\n",
        "    while True:\n",
        "        try:\n",
        "            nombre = str(input(\"Posa una frase \"))\n",
        "            return nombre\n",
        "        except ValueError:\n",
        "            print(\"Això no és un caracter, ni una cadena de caracters. Si us plau, intenta-ho de nou.\")\n",
        "\n",
        "frase = demanar_frase()\n",
        "llista_caracters = list(frase)\n",
        "print(llista_caracters)\n",
        "\n",
        "llista_caracters_sens = []\n",
        "\n",
        "for index in range(len(llista_caracters)):\n",
        "    if index % 2 == 0:  # Comprovem si l'índex és parell\n",
        "        llista_caracters_sens.append(llista_caracters[index])\n",
        "\n",
        "llista_caracters = llista_caracters_sens\n",
        "\n",
        "print(\"Llista resultant sense els caràcters en posicions senars:\", llista_caracters)\n",
        "\n",
        "print(\"Frase resultant:\", ''.join(llista_caracters))\n",
        "\n"
      ],
      "metadata": {
        "id": "q63IzNGaigv8",
        "colab": {
          "base_uri": "https://localhost:8080/"
        },
        "outputId": "36efdbc5-8870-47cb-b257-b1b90990933d"
      },
      "execution_count": 39,
      "outputs": [
        {
          "output_type": "stream",
          "name": "stdout",
          "text": [
            "Posa una frase hola mon\n",
            "['h', 'o', 'l', 'a', ' ', 'm', 'o', 'n']\n",
            "Llista resultant sense els caràcters en posicions senars: ['h', 'l', ' ', 'o']\n",
            "Frase resultant: hl o\n"
          ]
        }
      ]
    },
    {
      "cell_type": "markdown",
      "source": [
        "# Exercici 6\n",
        "\n",
        "Demana a l’usuari que escrigui una frase i guarda-la en una llista. Compta quantes vegades hi apareix cada vocal."
      ],
      "metadata": {
        "id": "K8JZEID-hGxo"
      }
    },
    {
      "cell_type": "code",
      "source": [
        "# Aquí va la teva resposta\n",
        "def demanar_frase():\n",
        "    while True:\n",
        "        try:\n",
        "            nombre = str(input(\"Posa una frase: \"))\n",
        "            return nombre\n",
        "        except ValueError:\n",
        "            print(\"Això no és un caracter, ni una cadena de caracters. Si us plau, intenta-ho de nou.\")\n",
        "\n",
        "frase = demanar_frase().lower()\n",
        "\n",
        "llista_caracters = list(frase)\n",
        "print(\"Llista de caràcters:\", llista_caracters)\n",
        "\n",
        "comptes_vocals = {}\n",
        "for vocal in 'aeiou':\n",
        "    comptes_vocals[vocal] = 0\n",
        "\n",
        "for caracter in llista_caracters:\n",
        "    if caracter in comptes_vocals:\n",
        "        comptes_vocals[caracter] += 1\n",
        "\n",
        "print(\"Comptatge de vocals:\")\n",
        "for vocal, compte in comptes_vocals.items():\n",
        "    print(f\"'{vocal}': {compte}\")\n"
      ],
      "metadata": {
        "id": "jIsepohitUP0",
        "colab": {
          "base_uri": "https://localhost:8080/"
        },
        "outputId": "447eae2d-6a01-445a-c39f-295de7c93acc"
      },
      "execution_count": 51,
      "outputs": [
        {
          "output_type": "stream",
          "name": "stdout",
          "text": [
            "Posa una frase: Esteve Segui\n",
            "Llista de caràcters: ['e', 's', 't', 'e', 'v', 'e', ' ', 's', 'e', 'g', 'u', 'i']\n",
            "Comptatge de vocals:\n",
            "'a': 0\n",
            "'e': 4\n",
            "'i': 1\n",
            "'o': 0\n",
            "'u': 1\n"
          ]
        }
      ]
    },
    {
      "cell_type": "markdown",
      "source": [
        "# Exercici 7\n",
        "\n",
        "Anem a fer feina amb una matriu de dues dimensions. Demana a l’usuari el nombre de files i de columnes que tindrà la matriu. A la primera posició de la matriu hi posarem el valor 2. A partir d’aquí, avançant primer per columnes i després per files, a cada cel·la hi posarem el doble de la cel·la anterior. Acaba imprimint el contingut final de la matriu. Vegem un exemple, per a una matriu de 4 files i 3 columnes:\n",
        "\n",
        "| | | |\n",
        "| --- | --- | --- |\n",
        "| 2 | 32  | 512 |\n",
        "| 4 | 64 | 1024 |\n",
        "| 8 | 128 | 2048 |\n",
        "| 16 | 256 | 4096 |"
      ],
      "metadata": {
        "id": "ANp2RkK_kspq"
      }
    },
    {
      "cell_type": "code",
      "source": [
        "# Aquí va la teva resposta\n"
      ],
      "metadata": {
        "id": "73z9Dmq99TK6"
      },
      "execution_count": null,
      "outputs": []
    },
    {
      "cell_type": "markdown",
      "source": [
        "# Exercici 8\n",
        "\n",
        "Ara ens mourem primer per files i després per columnes. Dins una fila, cada cel·la valdrà 10 + la cel·la anterior. Quan canviam de fila, a la primera posició multiplicam per 2 el valor de la cel·la superior (una fila menys dins la mateixa columna). I continuam omplint la fila igual que abans, sumant 10 a la cel·la anterior. Vegem un exemple, per a una matriu de 4 files i 3 columnes:\n",
        "\n",
        "| | | |\n",
        "| --- | --- | --- |\n",
        "| 2 | 12  | 22 |\n",
        "| 4 | 14 | 24 |\n",
        "| 8 | 18 | 28 |\n",
        "| 16 | 26 | 36 |"
      ],
      "metadata": {
        "id": "PSqvYxs0hLuC"
      }
    },
    {
      "cell_type": "code",
      "source": [
        "# Aquí va la teva resposta\n"
      ],
      "metadata": {
        "id": "38tOi9UIYsnQ"
      },
      "execution_count": null,
      "outputs": []
    },
    {
      "cell_type": "markdown",
      "source": [
        "# Exercici 9\n",
        "\n",
        "Tenim una llista amb cadenes de caràcters. Algunes d’aquestes cadenes contenen nombres enters. Per exemple:\n",
        "['abc', '12', 'x', '3', '36', 'mn', '48', 'aeiou, '95', '4']\n",
        "\n",
        "Emprant una comprensió, genera una llista que contengui els nombres enters de la llista anterior. En el nostre exemple seria:\n",
        "[12, 3, 36, 48, 95, 4]\n",
        "\n",
        "A continuació, emprant també una comprensió, genera una nova llista que contengui només els nombres parells de l’anterior. En el nostre exemple seria:\n",
        "[12, 36, 48, 4]\n",
        "\n",
        "**Nota: **el mètode *isdigit* de la classe str retorna True si la cadena conté un nombre enter\n",
        "\n",
        "\n"
      ],
      "metadata": {
        "id": "JdrxBfZ3TRha"
      }
    },
    {
      "cell_type": "code",
      "source": [
        "# Aquí va la teva resposta\n"
      ],
      "metadata": {
        "id": "gA0IlUHbTR2x"
      },
      "execution_count": null,
      "outputs": []
    },
    {
      "cell_type": "markdown",
      "source": [
        "# Exercici 10\n",
        "\n",
        "Escriu una funció que rebi un diccionari amb el codi dels 5 mòduls del curs d’especialització (5071 a 5075) i les notes d’un alumne (amb decimals). La funció ha de retornar un diccionari amb el nom de cada mòdul i la qualificació corresponent: suspès (menys de 5), aprovat (entre 5 i 7, sense arribar a 7), notable (entre 7 i 9, sense arribar a 9) o excel·lent (entre 9 i 10). Fes una crida a la funció amb un exemple de diccionari i mostra el diccionari resultat.\n"
      ],
      "metadata": {
        "id": "g1rlY4TrhKMo"
      }
    },
    {
      "cell_type": "code",
      "source": [
        "# Aquí va la teva resposta\n"
      ],
      "metadata": {
        "id": "KqDGmXyKvKf3"
      },
      "execution_count": null,
      "outputs": []
    },
    {
      "cell_type": "markdown",
      "source": [
        "# Exercici 11\n",
        "\n",
        "Escriu una funció que es digui *mitjana*, que rebi un diccionari com l’anterior (amb els codis dels mòduls i les notes d’un alumne) i que ens retorni la nota mitjana de tots els mòduls.\n",
        "\n",
        "A continuació, escriu una altra funció que es digui *minmax*, que rebi una llista de diccionaris com l’anterior i que ens retorni la nota mitjana màxima i la nota mijana mínima de la llista. Aquesta funció ha de cridar la funció *mitjana* per fer els càlculs.\n",
        "\n",
        "Finalment, crea una llista de diccionaris i mostra el resultat de cridar a la funció *minmax*.\n"
      ],
      "metadata": {
        "id": "K1MkUYDXuFIY"
      }
    },
    {
      "cell_type": "code",
      "source": [
        "# Aquí va la teva resposta\n"
      ],
      "metadata": {
        "id": "jBZY1qQ4YtvB"
      },
      "execution_count": null,
      "outputs": []
    },
    {
      "cell_type": "markdown",
      "source": [
        "# Exercici 12\n",
        "\n",
        "Crea una classe *Rectangle* amb dos atributs, un amb la longitud del costat llarg i un altre amb la longitud del costat curt. Afegeix-li els mètodes següents:\n",
        "* mètodes getter i setter per als dos atributs\n",
        "* un mètode que retorni l’àrea del rectangle\n",
        "* un mètode que retorni el perímetre del rectangle\n",
        "* un mètode que retorni True si és un quadrat i False en cas contrari\n",
        "\n",
        "A continuació, fes una altra classe *Comparador*, que tengui un mètode que, passant-li per paràmetre dos rectangles, retorni True si el primer és més gran que el segon o False en cas contrari\n",
        "\n",
        "Finalment, crea dos objectes de la classe *Rectangle* i, emprant el mètode de la classe *Comparador*, digues quin dels dos és més gran."
      ],
      "metadata": {
        "id": "MnU4O00gJ5l2"
      }
    },
    {
      "cell_type": "code",
      "source": [
        "# Aquí va la teva resposta\n"
      ],
      "metadata": {
        "id": "v0qdVOXPQlGP"
      },
      "execution_count": null,
      "outputs": []
    }
  ]
}